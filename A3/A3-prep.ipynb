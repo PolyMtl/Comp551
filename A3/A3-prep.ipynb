{
 "cells": [
  {
   "cell_type": "code",
   "execution_count": 197,
   "metadata": {},
   "outputs": [],
   "source": [
    "import pandas as pd\n",
    "import numpy as np\n",
    "import re\n",
    "import collections"
   ]
  },
  {
   "cell_type": "code",
   "execution_count": 198,
   "metadata": {},
   "outputs": [],
   "source": [
    "# read training data for IMDB and yelp\n",
    "ITrain = pd.read_csv('IMDB-train.txt',sep = '\\t',header = None)\n",
    "YTrain = pd.read_csv('yelp-train.txt',sep = '\\t',header = None)\n",
    "\n",
    "def prep(df,vocab):\n",
    "    # delete everything in the review that is not a letter or a whitespace\n",
    "    # lowercasing all the letters\n",
    "    for i in range(0,len(df[0])):\n",
    "        df.iloc[i,0] = re.sub(r'[^ a-zA-Z]+', \"\", df.iloc[i,0]).lower().lstrip().rstrip()\n",
    "        df.iloc[i,0] = re.sub(r'[ ]+', \" \", df.iloc[i,0])\n",
    "    \n",
    "    if vocab == False:\n",
    "        cnt = collections.Counter()\n",
    "        for i in range(0,len(df[0])):\n",
    "            words =  df.iloc[i,0].split(\" \")\n",
    "            for word in words:\n",
    "                cnt[word] +=1\n",
    "\n",
    "        # get word and corresponding frequency for 100000 most common vocab\n",
    "        w,f = zip(*cnt.most_common(10000))\n",
    "    else:\n",
    "        w,f = zip(*vocab)\n",
    "    \n",
    "    # substitute review with matching vocab id\n",
    "    for i in range(0,len(df[0])):\n",
    "        review = df.iloc[i,0].split(\" \")\n",
    "        for j in range(0,len(review)):\n",
    "            try:\n",
    "                review[j] = w.index(review[j])\n",
    "            except ValueError:\n",
    "                review[j] = ''\n",
    "        df.iloc[i,0] = \" \".join(str(e) for e in review)\n",
    "        df.iloc[i,0] = re.sub(r'[ ]+', \" \", df.iloc[i,0]).lstrip().rstrip()\n",
    "    \n",
    "    return df,w,f"
   ]
  },
  {
   "cell_type": "code",
   "execution_count": 182,
   "metadata": {},
   "outputs": [],
   "source": [
    "# get preprocessed training data\n",
    "IT,Iw,If = prep(ITrain,vocab = False)\n",
    "YT,Yw,Yf = prep(YTrain,vocab = False)"
   ]
  },
  {
   "cell_type": "code",
   "execution_count": 194,
   "metadata": {},
   "outputs": [],
   "source": [
    "IT.to_csv('IMDB-train-prep.txt',sep='\\t',header=None,index=False)\n",
    "YT.to_csv('yelp-train-prep.txt',sep='\\t',header=None,index=False)"
   ]
  },
  {
   "cell_type": "code",
   "execution_count": 201,
   "metadata": {},
   "outputs": [],
   "source": [
    "# read validating data for IMDB and yelp\n",
    "IValid = pd.read_csv('IMDB-valid.txt',sep = '\\t',header = None)\n",
    "YValid = pd.read_csv('yelp-valid.txt',sep = '\\t',header = None)\n",
    "\n",
    "# get preprocessed validating data\n",
    "IV,Iw,If = prep(IValid,vocab = zip(Iw,If))\n",
    "YV,Yw,Yf = prep(YValid,vocab = zip(Yw,Yf))"
   ]
  },
  {
   "cell_type": "code",
   "execution_count": 205,
   "metadata": {},
   "outputs": [],
   "source": [
    "IV.to_csv('IMDB-valid-prep.txt',sep='\\t',header=None,index=False)\n",
    "YV.to_csv('yelp-valid-prep.txt',sep='\\t',header=None,index=False)"
   ]
  },
  {
   "cell_type": "code",
   "execution_count": 206,
   "metadata": {},
   "outputs": [],
   "source": [
    "# read test data for IMDB and yelp\n",
    "ITest = pd.read_csv('IMDB-test.txt',sep = '\\t',header = None)\n",
    "YTest = pd.read_csv('yelp-test.txt',sep = '\\t',header = None)\n",
    "\n",
    "# get preprocessed test data\n",
    "ITe,Iw,If = prep(ITest,vocab = zip(Iw,If))\n",
    "YTe,Yw,Yf = prep(YTest,vocab = zip(Yw,Yf))\n",
    "\n",
    "ITe.to_csv('IMDB-test-prep.txt',sep='\\t',header=None,index=False)\n",
    "YTe.to_csv('yelp-test-prep.txt',sep='\\t',header=None,index=False)"
   ]
  },
  {
   "cell_type": "code",
   "execution_count": 212,
   "metadata": {},
   "outputs": [],
   "source": [
    "Iv = list(zip(Iw,range(0,10000),If))\n",
    "pd.DataFrame(Iv).to_csv('IMDB-vocab.txt',sep='\\t',header=None,index=False)\n",
    "Yv = list(zip(Yw,range(0,10000),Yf))\n",
    "pd.DataFrame(Yv).to_csv('yelp-vocab.txt',sep='\\t',header=None,index=False)"
   ]
  }
 ],
 "metadata": {
  "kernelspec": {
   "display_name": "Python 3",
   "language": "python",
   "name": "python3"
  },
  "language_info": {
   "codemirror_mode": {
    "name": "ipython",
    "version": 3
   },
   "file_extension": ".py",
   "mimetype": "text/x-python",
   "name": "python",
   "nbconvert_exporter": "python",
   "pygments_lexer": "ipython3",
   "version": "3.5.2"
  }
 },
 "nbformat": 4,
 "nbformat_minor": 2
}
