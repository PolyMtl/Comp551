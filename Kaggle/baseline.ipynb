{
  "nbformat": 4,
  "nbformat_minor": 0,
  "metadata": {
    "colab": {
      "name": "baseline.ipynb",
      "version": "0.3.2",
      "views": {},
      "default_view": {},
      "provenance": [],
      "collapsed_sections": []
    },
    "kernelspec": {
      "name": "python3",
      "display_name": "Python 3"
    },
    "accelerator": "GPU"
  },
  "cells": [
    {
      "metadata": {
        "id": "VvhfB2ykOT_V",
        "colab_type": "code",
        "colab": {
          "autoexec": {
            "startup": false,
            "wait_interval": 0
          }
        }
      },
      "cell_type": "code",
      "source": [
        "import numpy as np\n",
        "import matplotlib.pyplot as plt\n",
        "from scipy import ndimage\n",
        "from skimage.transform import resize\n",
        "from sklearn.svm import LinearSVC\n",
        "from sklearn.metrics import accuracy_score\n",
        "from google.colab import files"
      ],
      "execution_count": 0,
      "outputs": []
    },
    {
      "metadata": {
        "id": "fl65pLgilLMl",
        "colab_type": "code",
        "colab": {
          "autoexec": {
            "startup": false,
            "wait_interval": 0
          }
        }
      },
      "cell_type": "code",
      "source": [
        "URL_ENDPOINT = \"http://cs.mcgill.ca/~ksinha4/datasets/kaggle/\"\n",
        "\n",
        "train_x = np.loadtxt(URL_ENDPOINT+\"train_x.csv\", delimiter=\",\")\n",
        "train_y = np.loadtxt(URL_ENDPOINT+\"train_y.csv\", delimiter=\",\")\n",
        "# test_x = np.loadtxt(URL_ENDPOINT+\"test_x.csv\", delimiter=\",\")"
      ],
      "execution_count": 0,
      "outputs": []
    },
    {
      "metadata": {
        "id": "qU8t_6G5PK36",
        "colab_type": "code",
        "colab": {
          "autoexec": {
            "startup": false,
            "wait_interval": 0
          }
        }
      },
      "cell_type": "code",
      "source": [
        "x = train_x.reshape(-1, 64, 64) # reshape \n",
        "y = train_y.reshape(-1, 1) \n",
        "# test = test_x.reshape(-1, 64, 64)"
      ],
      "execution_count": 0,
      "outputs": []
    },
    {
      "metadata": {
        "id": "RC8MNE9R-8Cr",
        "colab_type": "code",
        "colab": {
          "autoexec": {
            "startup": false,
            "wait_interval": 0
          }
        }
      },
      "cell_type": "code",
      "source": [
        "def find_largest_bounding_box(im):\n",
        "  # convert to binary image\n",
        "#   _, im = cv2.threshold(im,254,255,cv2.THRESH_BINARY)\n",
        "  im[im<255]=0\n",
        "  im[im==255]=1\n",
        "  \n",
        "  label_im, nb_labels = ndimage.label(im)\n",
        "  \n",
        "  # find largest connected component\n",
        "  sizes = ndimage.sum(im, label_im, range(nb_labels + 1))\n",
        "  mask_size = sizes < 4**2\n",
        "  remove_pixel = mask_size[label_im]\n",
        "  label_im[remove_pixel] = 0\n",
        "  labels = np.unique(label_im)\n",
        "  label_im = np.searchsorted(labels, label_im)\n",
        "\n",
        "  digits = ndimage.find_objects(label_im)\n",
        "  max_side = 0\n",
        "  max_ind = 0\n",
        "  for i in range(0,len(digits)):\n",
        "    bound = im[digits[i]]\n",
        "    if np.max(bound.shape) > max_side:\n",
        "      max_side = np.max(bound.shape)\n",
        "      max_ind = i\n",
        "\n",
        "  bound_rec = im[digits[max_ind]]\n",
        "  \n",
        "  # pad and resize\n",
        "#   if bound_rec.shape[0] > bound_rec.shape[1]:\n",
        "#     resize_short = round(24*bound_rec.shape[1]/bound_rec.shape[0])\n",
        "#     bound_rec = resize(bound_rec, (24, resize_short), mode='reflect')\n",
        "#     pad_before = (np.ceil((28 - resize_short)/2)).astype(int)\n",
        "#     pad_after = (np.floor((28 - resize_short)/2)).astype(int)\n",
        "#     bound_squ = np.pad(bound_rec,((2,2),(pad_before, pad_after)),'constant', constant_values=0)\n",
        "    \n",
        "#   else:\n",
        "#     resize_short = round(24*bound_rec.shape[0]/bound_rec.shape[1])\n",
        "#     bound_rec = resize(bound_rec, (resize_short, 24), mode='reflect')\n",
        "#     pad_before = (np.ceil((28 - resize_short)/2)).astype(int)\n",
        "#     pad_after = (np.floor((28 - resize_short)/2)).astype(int)\n",
        "#     bound_squ = np.pad(bound_rec,((pad_before, pad_after),(2,2)),'constant', constant_values=0)\n",
        "#   _, bound_squ = cv2.threshold(bound_squ,254,255,cv2.THRESH_BINARY)\n",
        "\n",
        "  # pad and resize\n",
        "  if bound_rec.shape[0] > bound_rec.shape[1]:\n",
        "    resize_short = round(28*bound_rec.shape[1]/bound_rec.shape[0])\n",
        "    bound_rec = resize(bound_rec, (28, resize_short), mode='reflect')\n",
        "    pad_before = (np.ceil((28 - resize_short)/2)).astype(int)\n",
        "    pad_after = (np.floor((28 - resize_short)/2)).astype(int)\n",
        "    bound_squ = np.pad(bound_rec,((0,0),(pad_before, pad_after)),'constant', constant_values=0)\n",
        "    \n",
        "  else:\n",
        "    resize_short = round(28*bound_rec.shape[0]/bound_rec.shape[1])\n",
        "    bound_rec = resize(bound_rec, (resize_short, 28), mode='reflect')\n",
        "    pad_before = (np.ceil((28 - resize_short)/2)).astype(int)\n",
        "    pad_after = (np.floor((28 - resize_short)/2)).astype(int)\n",
        "    bound_squ = np.pad(bound_rec,((pad_before, pad_after),(0,0)),'constant', constant_values=0)\n",
        "\n",
        "\n",
        "\n",
        "  bound_squ[bound_squ<1] = 0\n",
        "  \n",
        "  return bound_squ"
      ],
      "execution_count": 0,
      "outputs": []
    },
    {
      "metadata": {
        "id": "C0iAOvVWRK6I",
        "colab_type": "code",
        "colab": {
          "autoexec": {
            "startup": false,
            "wait_interval": 0
          }
        }
      },
      "cell_type": "code",
      "source": [
        "def preprocess(train):\n",
        "  prep = np.zeros((len(train),28,28))\n",
        "  for i in range(0,len(prep)):\n",
        "    prep[i] = find_largest_bounding_box(train[i].copy())\n",
        "  return prep"
      ],
      "execution_count": 0,
      "outputs": []
    },
    {
      "metadata": {
        "id": "IAn0_V_JRUnu",
        "colab_type": "code",
        "colab": {
          "autoexec": {
            "startup": false,
            "wait_interval": 0
          },
          "output_extras": [
            {
              "item_id": 1
            }
          ],
          "base_uri": "https://localhost:8080/",
          "height": 71
        },
        "outputId": "6f9ce138-df4c-4fd9-d544-600100de009a",
        "executionInfo": {
          "status": "ok",
          "timestamp": 1521768534254,
          "user_tz": 240,
          "elapsed": 94577,
          "user": {
            "displayName": "Sylvia Huang",
            "photoUrl": "https://lh3.googleusercontent.com/a/default-user=s128",
            "userId": "111669525377799591605"
          }
        }
      },
      "cell_type": "code",
      "source": [
        "prep_x = preprocess(x)\n",
        "# np.savetxt('prep_train_x.csv',prep_x.reshape(-1,28**2),delimiter=',')\n",
        "# prep_test = preprocess(test)\n",
        "# np.savetxt('prep_test_x.csv',prep_test.reshape(-1,28**2),delimiter=',')"
      ],
      "execution_count": 42,
      "outputs": [
        {
          "output_type": "stream",
          "text": [
            "/usr/local/lib/python3.6/dist-packages/scipy/ndimage/measurements.py:431: FutureWarning: Conversion of the second argument of issubdtype from `int` to `np.signedinteger` is deprecated. In future, it will be treated as `np.int64 == np.dtype(int).type`.\n",
            "  safe = ((np.issubdtype(dt, int) and dt.itemsize <= int_size) or\n"
          ],
          "name": "stderr"
        }
      ]
    },
    {
      "metadata": {
        "id": "QETF8uqARHCM",
        "colab_type": "code",
        "colab": {
          "autoexec": {
            "startup": false,
            "wait_interval": 0
          },
          "output_extras": [
            {
              "item_id": 1
            },
            {
              "item_id": 2
            },
            {
              "item_id": 3
            }
          ],
          "base_uri": "https://localhost:8080/",
          "height": 384
        },
        "outputId": "cc7a71de-abc6-4ebf-955c-9e1892813de1",
        "executionInfo": {
          "status": "ok",
          "timestamp": 1521768651104,
          "user_tz": 240,
          "elapsed": 421,
          "user": {
            "displayName": "Sylvia Huang",
            "photoUrl": "https://lh3.googleusercontent.com/a/default-user=s128",
            "userId": "111669525377799591605"
          }
        }
      },
      "cell_type": "code",
      "source": [
        "# # examples of preprocessed image\n",
        "\n",
        "# d = 3650\n",
        "# print('y:', y[d])\n",
        "# plt.subplot(211)\n",
        "# plt.imshow(x[d])\n",
        "# plt.subplot(212)\n",
        "# plt.imshow(prep_x[d])"
      ],
      "execution_count": 43,
      "outputs": [
        {
          "output_type": "stream",
          "text": [
            "y: [5.]\n"
          ],
          "name": "stdout"
        },
        {
          "output_type": "execute_result",
          "data": {
            "text/plain": [
              "<matplotlib.image.AxesImage at 0x7f3f8ed71710>"
            ]
          },
          "metadata": {
            "tags": []
          },
          "execution_count": 43
        },
        {
          "output_type": "display_data",
          "data": {
            "image/png": "[encoded data removed]",
            "text/plain": [
              "<matplotlib.figure.Figure at 0x7f3f8ee1a9e8>"
            ]
          },
          "metadata": {
            "tags": []
          }
        }
      ]
    },
    {
      "metadata": {
        "id": "l_9RQ0Eac7ID",
        "colab_type": "code",
        "colab": {
          "autoexec": {
            "startup": false,
            "wait_interval": 0
          }
        }
      },
      "cell_type": "code",
      "source": [
        "# train = prep_x[:40000]\n",
        "# train = train.reshape(-1,28**2)\n",
        "# train_y = y[:40000]\n",
        "# valid = prep_x[40000:]\n",
        "# valid = valid.reshape(-1,28**2)\n",
        "# valid_y = y[40000:]"
      ],
      "execution_count": 0,
      "outputs": []
    },
    {
      "metadata": {
        "id": "Z8FtHlrbdGwe",
        "colab_type": "code",
        "colab": {
          "autoexec": {
            "startup": false,
            "wait_interval": 0
          }
        }
      },
      "cell_type": "code",
      "source": [
        "# linear SVM\n",
        "def sclf(x,y,c,test):\n",
        "  clf = LinearSVC(C=c, random_state=0)\n",
        "  clf.fit(x, y)\n",
        "  return clf.predict(test)"
      ],
      "execution_count": 0,
      "outputs": []
    },
    {
      "metadata": {
        "id": "Ekibr-czUbYD",
        "colab_type": "code",
        "colab": {
          "autoexec": {
            "startup": false,
            "wait_interval": 0
          }
        }
      },
      "cell_type": "code",
      "source": [
        "sec = np.zeros((5,10000,28,28))\n",
        "sec[0] = prep_x[:10000]\n",
        "sec[1] = prep_x[10000:20000]\n",
        "sec[2]= prep_x[20000:30000]\n",
        "sec[3] = prep_x[30000:40000]\n",
        "sec[4] = prep_x[40000:]\n",
        "\n",
        "sec_y = np.zeros((5,10000,1))\n",
        "sec_y[0] = y[:10000]\n",
        "sec_y[1] = y[10000:20000]\n",
        "sec_y[2]= y[20000:30000]\n",
        "sec_y[3] = y[30000:40000]\n",
        "sec_y[4] = y[40000:]"
      ],
      "execution_count": 0,
      "outputs": []
    },
    {
      "metadata": {
        "id": "sl4aDqv6VlKm",
        "colab_type": "code",
        "colab": {
          "autoexec": {
            "startup": false,
            "wait_interval": 0
          },
          "output_extras": [
            {
              "item_id": 1
            }
          ],
          "base_uri": "https://localhost:8080/",
          "height": 71
        },
        "outputId": "c273cd84-2621-4672-d518-5a265574accf"
      },
      "cell_type": "code",
      "source": [
        "# validation\n",
        "s = np.zeros(10)\n",
        "param = 0.00001,0.0001,0.001,0.01,0.1,1,10,100,1000,10000\n",
        "for i in range(0,10):\n",
        "  for j in range(0,5):\n",
        "    train = np.concatenate((sec[j%5],sec[(j+1)%5],sec[(j+2)%5],sec[(j+3)%5]))\n",
        "    train = train.reshape(-1,28**2)\n",
        "    train_y = np.concatenate((sec_y[j%5],sec_y[(j+1)%5],sec_y[(j+2)%5],sec_y[(j+3)%5]))\n",
        "    valid = sec[(j+4)%5]\n",
        "    valid = valid.reshape(-1,28**2)\n",
        "    valid_y = sec_y[(j+4)%5]\n",
        "    \n",
        "    s[i] = s[i] + accuracy_score(valid_y, sclf(train,train_y,param[i],valid))\n",
        "\n",
        "s = s/5\n",
        "\n",
        "# estimate validation set with best c\n",
        "est_valid = sclf(train,train_y,param[np.argmax(s)],valid)\n",
        "print('Best validation accuracy:', np.max(s))\n",
        "print('Best param:', param[np.argmax(s)])"
      ],
      "execution_count": 0,
      "outputs": [
        {
          "output_type": "stream",
          "text": [
            "/usr/local/lib/python3.6/dist-packages/sklearn/utils/validation.py:578: DataConversionWarning: A column-vector y was passed when a 1d array was expected. Please change the shape of y to (n_samples, ), for example using ravel().\n",
            "  y = column_or_1d(y, warn=True)\n"
          ],
          "name": "stderr"
        }
      ]
    },
    {
      "metadata": {
        "id": "Oz6aPnwHNB5l",
        "colab_type": "code",
        "colab": {
          "autoexec": {
            "startup": false,
            "wait_interval": 0
          },
          "output_extras": [
            {
              "item_id": 1
            },
            {
              "item_id": 2
            }
          ],
          "base_uri": "https://localhost:8080/",
          "height": 105
        },
        "outputId": "1e74511e-6445-4fce-f45e-b74cab21e8d6",
        "executionInfo": {
          "status": "ok",
          "timestamp": 1521770310850,
          "user_tz": 240,
          "elapsed": 1619870,
          "user": {
            "displayName": "Sylvia Huang",
            "photoUrl": "https://lh3.googleusercontent.com/a/default-user=s128",
            "userId": "111669525377799591605"
          }
        }
      },
      "cell_type": "code",
      "source": [
        "# # validation\n",
        "# s = np.zeros(10)\n",
        "# param = 0.00001,0.0001,0.001,0.01,0.1,1,10,100,1000,10000\n",
        "# for i in range(0,10):\n",
        "#   s[i] = accuracy_score(valid_y, sclf(train,train_y,param[i],valid))\n",
        "\n",
        "# # estimate validation set with best c\n",
        "# est_valid = sclf(train,train_y,param[np.argmax(s)],valid)\n",
        "# print('Best validation accuracy:', np.max(s))\n",
        "# print('Best param:', param[np.argmax(s)])"
      ],
      "execution_count": 46,
      "outputs": [
        {
          "output_type": "stream",
          "text": [
            "/usr/local/lib/python3.6/dist-packages/sklearn/utils/validation.py:578: DataConversionWarning: A column-vector y was passed when a 1d array was expected. Please change the shape of y to (n_samples, ), for example using ravel().\n",
            "  y = column_or_1d(y, warn=True)\n"
          ],
          "name": "stderr"
        },
        {
          "output_type": "stream",
          "text": [
            "Best validation accuracy: 0.7374\n",
            "Best param: 0.001\n"
          ],
          "name": "stdout"
        }
      ]
    },
    {
      "metadata": {
        "id": "nybsB-FHbUg9",
        "colab_type": "code",
        "colab": {
          "autoexec": {
            "startup": false,
            "wait_interval": 0
          },
          "output_extras": [
            {
              "item_id": 1
            },
            {
              "item_id": 2
            },
            {
              "item_id": 3
            }
          ],
          "base_uri": "https://localhost:8080/",
          "height": 401
        },
        "outputId": "5aa727b0-655a-4a69-90cc-814b249b34f0",
        "executionInfo": {
          "status": "ok",
          "timestamp": 1521770522997,
          "user_tz": 240,
          "elapsed": 413,
          "user": {
            "displayName": "Sylvia Huang",
            "photoUrl": "https://lh3.googleusercontent.com/a/default-user=s128",
            "userId": "111669525377799591605"
          }
        }
      },
      "cell_type": "code",
      "source": [
        "# d = 0\n",
        "# print('y:', valid_y[d])\n",
        "# print('estimated y:', est_valid[d])\n",
        "# plt.subplot(211)\n",
        "# plt.imshow(x[40000+d])\n",
        "# plt.subplot(212)\n",
        "# plt.imshow(prep_x[40000+d])"
      ],
      "execution_count": 47,
      "outputs": [
        {
          "output_type": "stream",
          "text": [
            "y: [8.]\n",
            "estimated y: 8.0\n"
          ],
          "name": "stdout"
        },
        {
          "output_type": "execute_result",
          "data": {
            "text/plain": [
              "<matplotlib.image.AxesImage at 0x7f3e7047ae48>"
            ]
          },
          "metadata": {
            "tags": []
          },
          "execution_count": 47
        },
        {
          "output_type": "display_data",
          "data": {
            "image/png": "[encoded data removed]",
            "text/plain": [
              "<matplotlib.figure.Figure at 0x7f3e7123c3c8>"
            ]
          },
          "metadata": {
            "tags": []
          }
        }
      ]
    },
    {
      "metadata": {
        "id": "VipJn__eUWKi",
        "colab_type": "code",
        "colab": {
          "autoexec": {
            "startup": false,
            "wait_interval": 0
          },
          "output_extras": [
            {
              "item_id": 1
            }
          ],
          "base_uri": "https://localhost:8080/",
          "height": 71
        },
        "outputId": "805836bd-93d9-45df-a9d9-bff11dcc4a35",
        "executionInfo": {
          "status": "ok",
          "timestamp": 1521514910908,
          "user_tz": 240,
          "elapsed": 4385,
          "user": {
            "displayName": "Sylvia Huang",
            "photoUrl": "https://lh3.googleusercontent.com/a/default-user=s128",
            "userId": "111669525377799591605"
          }
        }
      },
      "cell_type": "code",
      "source": [
        "est_test = sclf(train,train_y,param[np.argmax(s)],prep_test.reshape(-1,28**2))"
      ],
      "execution_count": 102,
      "outputs": [
        {
          "output_type": "stream",
          "text": [
            "/usr/local/lib/python3.6/dist-packages/sklearn/utils/validation.py:578: DataConversionWarning: A column-vector y was passed when a 1d array was expected. Please change the shape of y to (n_samples, ), for example using ravel().\n",
            "  y = column_or_1d(y, warn=True)\n"
          ],
          "name": "stderr"
        }
      ]
    },
    {
      "metadata": {
        "id": "cyEOrq9nWx2a",
        "colab_type": "code",
        "colab": {
          "autoexec": {
            "startup": false,
            "wait_interval": 0
          }
        }
      },
      "cell_type": "code",
      "source": [
        "result = np.concatenate((np.asarray(range(0,len(est_test))).reshape(len(est_test),1),est_test.reshape(len(est_test),1)), axis=1).astype(int)\n",
        "np.savetxt('test_y.csv',result,delimiter=',',header='Id,Label')\n",
        "files.download('test_y.csv')"
      ],
      "execution_count": 0,
      "outputs": []
    }
  ]
}